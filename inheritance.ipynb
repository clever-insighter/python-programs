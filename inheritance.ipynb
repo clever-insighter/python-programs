{
 "cells": [
  {
   "cell_type": "markdown",
   "id": "ebb4f1b2",
   "metadata": {},
   "source": [
    "# SINGLE  INHERITANCE\n",
    "\n"
   ]
  },
  {
   "cell_type": "code",
   "execution_count": 1,
   "id": "3cdee861",
   "metadata": {},
   "outputs": [
    {
     "name": "stdout",
     "output_type": "stream",
     "text": [
      "A class\n"
     ]
    }
   ],
   "source": [
    "class A:\n",
    "    def __init__(self):\n",
    "        print(\"A class\")\n",
    "class B(A):\n",
    "    def __init__(self):\n",
    "        print(\"B class\")\n",
    "c = A()\n"
   ]
  },
  {
   "cell_type": "code",
   "execution_count": 2,
   "id": "30f2f048",
   "metadata": {},
   "outputs": [
    {
     "name": "stdout",
     "output_type": "stream",
     "text": [
      "A class\n",
      "B class\n"
     ]
    }
   ],
   "source": [
    "class A:\n",
    "    def fun1(self):\n",
    "        print(\"A class\")\n",
    "class B(A):\n",
    "    def fun2(self):\n",
    "        print(\"B class\")\n",
    "O = B()\n",
    "O.fun1()\n",
    "O.fun2()\n",
    "       "
   ]
  },
  {
   "cell_type": "code",
   "execution_count": 3,
   "id": "d3e57c7a",
   "metadata": {},
   "outputs": [
    {
     "name": "stdout",
     "output_type": "stream",
     "text": [
      "A class\n",
      "B class\n"
     ]
    }
   ],
   "source": [
    "class parent:\n",
    "    def fun1(self):\n",
    "        print(\"A class\")\n",
    "class child(parent):\n",
    "    def fun2(self):\n",
    "        print(\"B class\")\n",
    "d=child()\n",
    "d.fun1()\n",
    "d.fun2()"
   ]
  },
  {
   "cell_type": "markdown",
   "id": "0d9aac40",
   "metadata": {},
   "source": [
    "# multilevel inheritance"
   ]
  },
  {
   "cell_type": "code",
   "execution_count": 8,
   "id": "d90bc83a",
   "metadata": {},
   "outputs": [
    {
     "name": "stdout",
     "output_type": "stream",
     "text": [
      "A class\n",
      "B class\n",
      "C class\n"
     ]
    }
   ],
   "source": [
    "class A:\n",
    "    def fun1(self):\n",
    "        print(\"A class\")\n",
    "class B(A):\n",
    "    def fun2(self):\n",
    "        print(\"B class\")\n",
    "class C(B):\n",
    "    def fun3(self):\n",
    "        print(\"C class\")\n",
    "d=C()\n",
    "d.fun1()\n",
    "d.fun2()\n",
    "d.fun3()\n",
    "\n",
    "    "
   ]
  },
  {
   "cell_type": "code",
   "execution_count": null,
   "id": "ba29d8f7",
   "metadata": {},
   "outputs": [],
   "source": [
    "class grandfather:\n",
    "    def fun1(self):\n",
    "        print(\"A class\")\n",
    "class parent:\n",
    "    def fun2(self):\n",
    "        print(\"B class\")\n",
    "class child :\n",
    "    def func3(self):\n",
    "        print(\"C class\")\n",
    "e=D()\n",
    "e.func1()\n"
   ]
  }
 ],
 "metadata": {
  "kernelspec": {
   "display_name": "Python 3 (ipykernel)",
   "language": "python",
   "name": "python3"
  },
  "language_info": {
   "codemirror_mode": {
    "name": "ipython",
    "version": 3
   },
   "file_extension": ".py",
   "mimetype": "text/x-python",
   "name": "python",
   "nbconvert_exporter": "python",
   "pygments_lexer": "ipython3",
   "version": "3.9.9"
  }
 },
 "nbformat": 4,
 "nbformat_minor": 5
}
